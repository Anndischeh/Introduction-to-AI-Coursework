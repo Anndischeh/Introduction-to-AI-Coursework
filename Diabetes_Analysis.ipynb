{
 "cells": [
  {
   "cell_type": "code",
   "execution_count": 1,
   "id": "e39a7dc5-39cd-4785-8630-386dfb8519d2",
   "metadata": {},
   "outputs": [
    {
     "name": "stdout",
     "output_type": "stream",
     "text": [
      "Requirement already satisfied: pandas in c:\\users\\anndi\\appdata\\roaming\\python\\python312\\site-packages (2.2.3)\n",
      "Requirement already satisfied: numpy>=1.26.0 in c:\\users\\anndi\\anaconda3\\lib\\site-packages (from pandas) (1.26.4)\n",
      "Requirement already satisfied: python-dateutil>=2.8.2 in c:\\users\\anndi\\anaconda3\\lib\\site-packages (from pandas) (2.9.0.post0)\n",
      "Requirement already satisfied: pytz>=2020.1 in c:\\users\\anndi\\anaconda3\\lib\\site-packages (from pandas) (2024.1)\n",
      "Requirement already satisfied: tzdata>=2022.7 in c:\\users\\anndi\\anaconda3\\lib\\site-packages (from pandas) (2023.3)\n",
      "Requirement already satisfied: six>=1.5 in c:\\users\\anndi\\anaconda3\\lib\\site-packages (from python-dateutil>=2.8.2->pandas) (1.16.0)\n"
     ]
    }
   ],
   "source": [
    "!pip install pandas\n"
   ]
  },
  {
   "cell_type": "code",
   "execution_count": 2,
   "id": "924f2b71-2557-430f-b03d-6050597a5745",
   "metadata": {},
   "outputs": [],
   "source": [
    "import pandas as pd"
   ]
  },
  {
   "cell_type": "code",
   "execution_count": 3,
   "id": "6f79c390-23a9-4bcf-869a-8404a796c815",
   "metadata": {},
   "outputs": [
    {
     "name": "stdout",
     "output_type": "stream",
     "text": [
      "['diabetes_012_health_indicators_BRFSS2015.csv', 'diabetes_binary_5050split_health_indicators_BRFSS2015.csv', 'diabetes_binary_health_indicators_BRFSS2015.csv']\n"
     ]
    }
   ],
   "source": [
    "import zipfile\n",
    "import os\n",
    "\n",
    "# Define the path to the zip file and extraction directory\n",
    "zip_file_path = r'C:\\Users\\anndi\\Downloads\\Diabetes Health Indicators Dataset.zip'\n",
    "extract_dir = r'C:\\Users\\anndi\\Downloads\\Diabetes Health Indicators Dataset'\n",
    "\n",
    "# Extract the zip file\n",
    "with zipfile.ZipFile(zip_file_path, 'r') as zip_ref:\n",
    "    zip_ref.extractall(extract_dir)\n",
    "\n",
    "# List the extracted files\n",
    "extracted_files = os.listdir(extract_dir)\n",
    "print(extracted_files)\n"
   ]
  },
  {
   "cell_type": "code",
   "execution_count": 4,
   "id": "c48b3816-f6d3-4acf-849c-0a80e47cc698",
   "metadata": {},
   "outputs": [
    {
     "name": "stdout",
     "output_type": "stream",
     "text": [
      "   Diabetes_binary  HighBP  HighChol  CholCheck   BMI  Smoker  Stroke  \\\n",
      "0              0.0     1.0       1.0        1.0  40.0     1.0     0.0   \n",
      "1              0.0     0.0       0.0        0.0  25.0     1.0     0.0   \n",
      "2              0.0     1.0       1.0        1.0  28.0     0.0     0.0   \n",
      "3              0.0     1.0       0.0        1.0  27.0     0.0     0.0   \n",
      "4              0.0     1.0       1.0        1.0  24.0     0.0     0.0   \n",
      "\n",
      "   HeartDiseaseorAttack  PhysActivity  Fruits  ...  AnyHealthcare  \\\n",
      "0                   0.0           0.0     0.0  ...            1.0   \n",
      "1                   0.0           1.0     0.0  ...            0.0   \n",
      "2                   0.0           0.0     1.0  ...            1.0   \n",
      "3                   0.0           1.0     1.0  ...            1.0   \n",
      "4                   0.0           1.0     1.0  ...            1.0   \n",
      "\n",
      "   NoDocbcCost  GenHlth  MentHlth  PhysHlth  DiffWalk  Sex   Age  Education  \\\n",
      "0          0.0      5.0      18.0      15.0       1.0  0.0   9.0        4.0   \n",
      "1          1.0      3.0       0.0       0.0       0.0  0.0   7.0        6.0   \n",
      "2          1.0      5.0      30.0      30.0       1.0  0.0   9.0        4.0   \n",
      "3          0.0      2.0       0.0       0.0       0.0  0.0  11.0        3.0   \n",
      "4          0.0      2.0       3.0       0.0       0.0  0.0  11.0        5.0   \n",
      "\n",
      "   Income  \n",
      "0     3.0  \n",
      "1     1.0  \n",
      "2     8.0  \n",
      "3     6.0  \n",
      "4     4.0  \n",
      "\n",
      "[5 rows x 22 columns]\n"
     ]
    }
   ],
   "source": [
    "import pandas as pd\n",
    "\n",
    "# Load the dataset\n",
    "data = pd.read_csv(r'C:\\Users\\anndi\\Downloads\\Diabetes Health Indicators Dataset\\diabetes_binary_health_indicators_BRFSS2015.csv')\n",
    "\n",
    "# Display the first few rows of the dataset\n",
    "print(data.head())\n"
   ]
  },
  {
   "cell_type": "code",
   "execution_count": 5,
   "id": "7a38d9e5-03fd-4536-a2c9-61c759aed430",
   "metadata": {},
   "outputs": [
    {
     "name": "stdout",
     "output_type": "stream",
     "text": [
      "Shape of the dataset: (253680, 22)\n",
      "Columns in the dataset: Index(['Diabetes_binary', 'HighBP', 'HighChol', 'CholCheck', 'BMI', 'Smoker',\n",
      "       'Stroke', 'HeartDiseaseorAttack', 'PhysActivity', 'Fruits', 'Veggies',\n",
      "       'HvyAlcoholConsump', 'AnyHealthcare', 'NoDocbcCost', 'GenHlth',\n",
      "       'MentHlth', 'PhysHlth', 'DiffWalk', 'Sex', 'Age', 'Education',\n",
      "       'Income'],\n",
      "      dtype='object')\n"
     ]
    }
   ],
   "source": [
    "# Check the shape of the dataset\n",
    "print(\"Shape of the dataset:\", data.shape)\n",
    "\n",
    "# Display the columns in the dataset\n",
    "print(\"Columns in the dataset:\", data.columns)\n"
   ]
  },
  {
   "cell_type": "code",
   "execution_count": 6,
   "id": "b9f3f39c-06c0-4509-9bca-b154f79739ff",
   "metadata": {},
   "outputs": [
    {
     "name": "stdout",
     "output_type": "stream",
     "text": [
      "<class 'pandas.core.frame.DataFrame'>\n",
      "RangeIndex: 253680 entries, 0 to 253679\n",
      "Data columns (total 22 columns):\n",
      " #   Column                Non-Null Count   Dtype  \n",
      "---  ------                --------------   -----  \n",
      " 0   Diabetes_binary       253680 non-null  float64\n",
      " 1   HighBP                253680 non-null  float64\n",
      " 2   HighChol              253680 non-null  float64\n",
      " 3   CholCheck             253680 non-null  float64\n",
      " 4   BMI                   253680 non-null  float64\n",
      " 5   Smoker                253680 non-null  float64\n",
      " 6   Stroke                253680 non-null  float64\n",
      " 7   HeartDiseaseorAttack  253680 non-null  float64\n",
      " 8   PhysActivity          253680 non-null  float64\n",
      " 9   Fruits                253680 non-null  float64\n",
      " 10  Veggies               253680 non-null  float64\n",
      " 11  HvyAlcoholConsump     253680 non-null  float64\n",
      " 12  AnyHealthcare         253680 non-null  float64\n",
      " 13  NoDocbcCost           253680 non-null  float64\n",
      " 14  GenHlth               253680 non-null  float64\n",
      " 15  MentHlth              253680 non-null  float64\n",
      " 16  PhysHlth              253680 non-null  float64\n",
      " 17  DiffWalk              253680 non-null  float64\n",
      " 18  Sex                   253680 non-null  float64\n",
      " 19  Age                   253680 non-null  float64\n",
      " 20  Education             253680 non-null  float64\n",
      " 21  Income                253680 non-null  float64\n",
      "dtypes: float64(22)\n",
      "memory usage: 42.6 MB\n",
      "None\n"
     ]
    }
   ],
   "source": [
    "# Display basic information about the dataset\n",
    "print(data.info())\n"
   ]
  },
  {
   "cell_type": "code",
   "execution_count": 7,
   "id": "914396dd-e2db-4be3-8c5b-5bd5648b6ff4",
   "metadata": {},
   "outputs": [
    {
     "name": "stdout",
     "output_type": "stream",
     "text": [
      "Missing values in each column:\n",
      " Diabetes_binary         0\n",
      "HighBP                  0\n",
      "HighChol                0\n",
      "CholCheck               0\n",
      "BMI                     0\n",
      "Smoker                  0\n",
      "Stroke                  0\n",
      "HeartDiseaseorAttack    0\n",
      "PhysActivity            0\n",
      "Fruits                  0\n",
      "Veggies                 0\n",
      "HvyAlcoholConsump       0\n",
      "AnyHealthcare           0\n",
      "NoDocbcCost             0\n",
      "GenHlth                 0\n",
      "MentHlth                0\n",
      "PhysHlth                0\n",
      "DiffWalk                0\n",
      "Sex                     0\n",
      "Age                     0\n",
      "Education               0\n",
      "Income                  0\n",
      "dtype: int64\n"
     ]
    }
   ],
   "source": [
    "# Check for missing values\n",
    "missing_values = data.isnull().sum()\n",
    "print(\"Missing values in each column:\\n\", missing_values)\n"
   ]
  },
  {
   "cell_type": "code",
   "execution_count": 8,
   "id": "e56b7afa-9384-4d4f-bd26-0f4e3b588894",
   "metadata": {},
   "outputs": [
    {
     "name": "stdout",
     "output_type": "stream",
     "text": [
      "       Diabetes_binary         HighBP       HighChol      CholCheck  \\\n",
      "count    253680.000000  253680.000000  253680.000000  253680.000000   \n",
      "mean          0.139333       0.429001       0.424121       0.962670   \n",
      "std           0.346294       0.494934       0.494210       0.189571   \n",
      "min           0.000000       0.000000       0.000000       0.000000   \n",
      "25%           0.000000       0.000000       0.000000       1.000000   \n",
      "50%           0.000000       0.000000       0.000000       1.000000   \n",
      "75%           0.000000       1.000000       1.000000       1.000000   \n",
      "max           1.000000       1.000000       1.000000       1.000000   \n",
      "\n",
      "                 BMI         Smoker         Stroke  HeartDiseaseorAttack  \\\n",
      "count  253680.000000  253680.000000  253680.000000         253680.000000   \n",
      "mean       28.382364       0.443169       0.040571              0.094186   \n",
      "std         6.608694       0.496761       0.197294              0.292087   \n",
      "min        12.000000       0.000000       0.000000              0.000000   \n",
      "25%        24.000000       0.000000       0.000000              0.000000   \n",
      "50%        27.000000       0.000000       0.000000              0.000000   \n",
      "75%        31.000000       1.000000       0.000000              0.000000   \n",
      "max        98.000000       1.000000       1.000000              1.000000   \n",
      "\n",
      "        PhysActivity         Fruits  ...  AnyHealthcare    NoDocbcCost  \\\n",
      "count  253680.000000  253680.000000  ...  253680.000000  253680.000000   \n",
      "mean        0.756544       0.634256  ...       0.951053       0.084177   \n",
      "std         0.429169       0.481639  ...       0.215759       0.277654   \n",
      "min         0.000000       0.000000  ...       0.000000       0.000000   \n",
      "25%         1.000000       0.000000  ...       1.000000       0.000000   \n",
      "50%         1.000000       1.000000  ...       1.000000       0.000000   \n",
      "75%         1.000000       1.000000  ...       1.000000       0.000000   \n",
      "max         1.000000       1.000000  ...       1.000000       1.000000   \n",
      "\n",
      "             GenHlth       MentHlth       PhysHlth       DiffWalk  \\\n",
      "count  253680.000000  253680.000000  253680.000000  253680.000000   \n",
      "mean        2.511392       3.184772       4.242081       0.168224   \n",
      "std         1.068477       7.412847       8.717951       0.374066   \n",
      "min         1.000000       0.000000       0.000000       0.000000   \n",
      "25%         2.000000       0.000000       0.000000       0.000000   \n",
      "50%         2.000000       0.000000       0.000000       0.000000   \n",
      "75%         3.000000       2.000000       3.000000       0.000000   \n",
      "max         5.000000      30.000000      30.000000       1.000000   \n",
      "\n",
      "                 Sex            Age      Education         Income  \n",
      "count  253680.000000  253680.000000  253680.000000  253680.000000  \n",
      "mean        0.440342       8.032119       5.050434       6.053875  \n",
      "std         0.496429       3.054220       0.985774       2.071148  \n",
      "min         0.000000       1.000000       1.000000       1.000000  \n",
      "25%         0.000000       6.000000       4.000000       5.000000  \n",
      "50%         0.000000       8.000000       5.000000       7.000000  \n",
      "75%         1.000000      10.000000       6.000000       8.000000  \n",
      "max         1.000000      13.000000       6.000000       8.000000  \n",
      "\n",
      "[8 rows x 22 columns]\n"
     ]
    }
   ],
   "source": [
    "# Display descriptive statistics\n",
    "print(data.describe())\n"
   ]
  },
  {
   "cell_type": "code",
   "execution_count": null,
   "id": "c9c4d5f1-2893-486c-8717-c3b1324c7403",
   "metadata": {},
   "outputs": [],
   "source": []
  }
 ],
 "metadata": {
  "kernelspec": {
   "display_name": "Python 3 (ipykernel)",
   "language": "python",
   "name": "python3"
  },
  "language_info": {
   "codemirror_mode": {
    "name": "ipython",
    "version": 3
   },
   "file_extension": ".py",
   "mimetype": "text/x-python",
   "name": "python",
   "nbconvert_exporter": "python",
   "pygments_lexer": "ipython3",
   "version": "3.12.4"
  }
 },
 "nbformat": 4,
 "nbformat_minor": 5
}
