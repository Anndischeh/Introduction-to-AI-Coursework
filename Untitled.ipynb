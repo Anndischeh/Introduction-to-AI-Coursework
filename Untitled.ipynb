{
 "cells": [
  {
   "cell_type": "code",
   "execution_count": 2,
   "id": "058994b9",
   "metadata": {},
   "outputs": [
    {
     "name": "stdout",
     "output_type": "stream",
     "text": [
      "   Diabetes_012  HighBP  HighChol  CholCheck   BMI  Smoker  Stroke  \\\n",
      "0           0.0     1.0       1.0        1.0  40.0     1.0     0.0   \n",
      "1           0.0     0.0       0.0        0.0  25.0     1.0     0.0   \n",
      "2           0.0     1.0       1.0        1.0  28.0     0.0     0.0   \n",
      "3           0.0     1.0       0.0        1.0  27.0     0.0     0.0   \n",
      "4           0.0     1.0       1.0        1.0  24.0     0.0     0.0   \n",
      "\n",
      "   HeartDiseaseorAttack  PhysActivity  Fruits  ...  AnyHealthcare  \\\n",
      "0                   0.0           0.0     0.0  ...            1.0   \n",
      "1                   0.0           1.0     0.0  ...            0.0   \n",
      "2                   0.0           0.0     1.0  ...            1.0   \n",
      "3                   0.0           1.0     1.0  ...            1.0   \n",
      "4                   0.0           1.0     1.0  ...            1.0   \n",
      "\n",
      "   NoDocbcCost  GenHlth  MentHlth  PhysHlth  DiffWalk  Sex   Age  Education  \\\n",
      "0          0.0      5.0      18.0      15.0       1.0  0.0   9.0        4.0   \n",
      "1          1.0      3.0       0.0       0.0       0.0  0.0   7.0        6.0   \n",
      "2          1.0      5.0      30.0      30.0       1.0  0.0   9.0        4.0   \n",
      "3          0.0      2.0       0.0       0.0       0.0  0.0  11.0        3.0   \n",
      "4          0.0      2.0       3.0       0.0       0.0  0.0  11.0        5.0   \n",
      "\n",
      "   Income  \n",
      "0     3.0  \n",
      "1     1.0  \n",
      "2     8.0  \n",
      "3     6.0  \n",
      "4     4.0  \n",
      "\n",
      "[5 rows x 22 columns]\n"
     ]
    }
   ],
   "source": [
    "import pandas as pd\n",
    "\n",
    "# Load the dataset into a DataFrame\n",
    "data = pd.read_csv('diabetes_012_health_indicators_BRFSS2015.csv')\n",
    "\n",
    "# Shows the first 5 rows to get a quick look at the data\n",
    "print(data.head())"
   ]
  },
  {
   "cell_type": "code",
   "execution_count": 3,
   "id": "09bc8bc3",
   "metadata": {},
   "outputs": [
    {
     "name": "stdout",
     "output_type": "stream",
     "text": [
      "<class 'pandas.core.frame.DataFrame'>\n",
      "RangeIndex: 253680 entries, 0 to 253679\n",
      "Data columns (total 22 columns):\n",
      " #   Column                Non-Null Count   Dtype  \n",
      "---  ------                --------------   -----  \n",
      " 0   Diabetes_012          253680 non-null  float64\n",
      " 1   HighBP                253680 non-null  float64\n",
      " 2   HighChol              253680 non-null  float64\n",
      " 3   CholCheck             253680 non-null  float64\n",
      " 4   BMI                   253680 non-null  float64\n",
      " 5   Smoker                253680 non-null  float64\n",
      " 6   Stroke                253680 non-null  float64\n",
      " 7   HeartDiseaseorAttack  253680 non-null  float64\n",
      " 8   PhysActivity          253680 non-null  float64\n",
      " 9   Fruits                253680 non-null  float64\n",
      " 10  Veggies               253680 non-null  float64\n",
      " 11  HvyAlcoholConsump     253680 non-null  float64\n",
      " 12  AnyHealthcare         253680 non-null  float64\n",
      " 13  NoDocbcCost           253680 non-null  float64\n",
      " 14  GenHlth               253680 non-null  float64\n",
      " 15  MentHlth              253680 non-null  float64\n",
      " 16  PhysHlth              253680 non-null  float64\n",
      " 17  DiffWalk              253680 non-null  float64\n",
      " 18  Sex                   253680 non-null  float64\n",
      " 19  Age                   253680 non-null  float64\n",
      " 20  Education             253680 non-null  float64\n",
      " 21  Income                253680 non-null  float64\n",
      "dtypes: float64(22)\n",
      "memory usage: 42.6 MB\n",
      "None\n"
     ]
    }
   ],
   "source": [
    "# Print info about the column types and non-null counts)\n",
    "print(data.info())"
   ]
  },
  {
   "cell_type": "code",
   "execution_count": 9,
   "id": "096a22b6",
   "metadata": {},
   "outputs": [
    {
     "name": "stdout",
     "output_type": "stream",
     "text": [
      "        Diabetes_012         HighBP       HighChol      CholCheck  \\\n",
      "count  253680.000000  253680.000000  253680.000000  253680.000000   \n",
      "mean        0.296921       0.429001       0.424121       0.962670   \n",
      "std         0.698160       0.494934       0.494210       0.189571   \n",
      "min         0.000000       0.000000       0.000000       0.000000   \n",
      "25%         0.000000       0.000000       0.000000       1.000000   \n",
      "50%         0.000000       0.000000       0.000000       1.000000   \n",
      "75%         0.000000       1.000000       1.000000       1.000000   \n",
      "max         2.000000       1.000000       1.000000       1.000000   \n",
      "\n",
      "                 BMI         Smoker         Stroke  HeartDiseaseorAttack  \\\n",
      "count  253680.000000  253680.000000  253680.000000         253680.000000   \n",
      "mean       28.382364       0.443169       0.040571              0.094186   \n",
      "std         6.608694       0.496761       0.197294              0.292087   \n",
      "min        12.000000       0.000000       0.000000              0.000000   \n",
      "25%        24.000000       0.000000       0.000000              0.000000   \n",
      "50%        27.000000       0.000000       0.000000              0.000000   \n",
      "75%        31.000000       1.000000       0.000000              0.000000   \n",
      "max        98.000000       1.000000       1.000000              1.000000   \n",
      "\n",
      "        PhysActivity         Fruits  ...  AnyHealthcare    NoDocbcCost  \\\n",
      "count  253680.000000  253680.000000  ...  253680.000000  253680.000000   \n",
      "mean        0.756544       0.634256  ...       0.951053       0.084177   \n",
      "std         0.429169       0.481639  ...       0.215759       0.277654   \n",
      "min         0.000000       0.000000  ...       0.000000       0.000000   \n",
      "25%         1.000000       0.000000  ...       1.000000       0.000000   \n",
      "50%         1.000000       1.000000  ...       1.000000       0.000000   \n",
      "75%         1.000000       1.000000  ...       1.000000       0.000000   \n",
      "max         1.000000       1.000000  ...       1.000000       1.000000   \n",
      "\n",
      "             GenHlth       MentHlth       PhysHlth       DiffWalk  \\\n",
      "count  253680.000000  253680.000000  253680.000000  253680.000000   \n",
      "mean        2.511392       3.184772       4.242081       0.168224   \n",
      "std         1.068477       7.412847       8.717951       0.374066   \n",
      "min         1.000000       0.000000       0.000000       0.000000   \n",
      "25%         2.000000       0.000000       0.000000       0.000000   \n",
      "50%         2.000000       0.000000       0.000000       0.000000   \n",
      "75%         3.000000       2.000000       3.000000       0.000000   \n",
      "max         5.000000      30.000000      30.000000       1.000000   \n",
      "\n",
      "                 Sex            Age      Education         Income  \n",
      "count  253680.000000  253680.000000  253680.000000  253680.000000  \n",
      "mean        0.440342       8.032119       5.050434       6.053875  \n",
      "std         0.496429       3.054220       0.985774       2.071148  \n",
      "min         0.000000       1.000000       1.000000       1.000000  \n",
      "25%         0.000000       6.000000       4.000000       5.000000  \n",
      "50%         0.000000       8.000000       5.000000       7.000000  \n",
      "75%         1.000000      10.000000       6.000000       8.000000  \n",
      "max         1.000000      13.000000       6.000000       8.000000  \n",
      "\n",
      "[8 rows x 22 columns]\n"
     ]
    }
   ],
   "source": [
    "# Show basic statistics (mean, min, max, etc.) for each column\n",
    "# Helps understand the range and distribution of data\n",
    "print(data.describe())"
   ]
  },
  {
   "cell_type": "code",
   "execution_count": 2,
   "id": "05aa9346",
   "metadata": {},
   "outputs": [
    {
     "name": "stdout",
     "output_type": "stream",
     "text": [
      "Initial shape of the dataframe: (253680, 19)\n"
     ]
    }
   ],
   "source": [
    "# Print the initial shape of the dataset (rows and columns count)\n",
    "print(\"Initial shape of the dataframe:\", data.shape)"
   ]
  },
  {
   "cell_type": "code",
   "execution_count": 5,
   "id": "b6ef85dc",
   "metadata": {},
   "outputs": [
    {
     "name": "stdout",
     "output_type": "stream",
     "text": [
      "Number of missing values for each column:\n",
      "Diabetes_012            0\n",
      "HighBP                  0\n",
      "HighChol                0\n",
      "CholCheck               0\n",
      "BMI                     0\n",
      "Smoker                  0\n",
      "Stroke                  0\n",
      "HeartDiseaseorAttack    0\n",
      "PhysActivity            0\n",
      "Fruits                  0\n",
      "Veggies                 0\n",
      "HvyAlcoholConsump       0\n",
      "AnyHealthcare           0\n",
      "NoDocbcCost             0\n",
      "GenHlth                 0\n",
      "MentHlth                0\n",
      "PhysHlth                0\n",
      "DiffWalk                0\n",
      "Sex                     0\n",
      "Age                     0\n",
      "Education               0\n",
      "Income                  0\n",
      "dtype: int64\n"
     ]
    }
   ],
   "source": [
    "# Check for missing values in each column and print the result\n",
    "missing_values= data.isnull().sum()\n",
    "print(\"Number of missing values for each column:\")\n",
    "print(missing_values)"
   ]
  },
  {
   "cell_type": "code",
   "execution_count": 3,
   "id": "59abee57",
   "metadata": {},
   "outputs": [
    {
     "name": "stdout",
     "output_type": "stream",
     "text": [
      "Shape of the dataframe after dropping columns: (253680, 19)\n"
     ]
    }
   ],
   "source": [
    "# Remove columns with over 95% of the same value (low variability)\n",
    "# This removes unhelpful columns, making the dataset more useful\n",
    "for column in data.columns:\n",
    "    if data[column].value_counts(normalize=True, dropna=False).iloc[0] > 0.95:\n",
    "        data.drop(column, axis=1, inplace=True)\n",
    "\n",
    "print(\"Shape of the dataframe after dropping columns:\", data.shape)"
   ]
  },
  {
   "cell_type": "code",
   "execution_count": 21,
   "id": "a24130bd",
   "metadata": {},
   "outputs": [
    {
     "name": "stdout",
     "output_type": "stream",
     "text": [
      "Training set shape: (177576, 18)\n",
      "Validation set shape: (38052, 18)\n",
      "Test set shape: (38052, 18)\n"
     ]
    }
   ],
   "source": [
    "# Import libraries for data splitting and feature scaling\n",
    "from sklearn.model_selection import train_test_split\n",
    "from sklearn.preprocessing import StandardScaler\n",
    "\n",
    "# Define the target column (Diabetes status) and separate features and target\n",
    "X = data.drop('Diabetes_012', axis=1)\n",
    "y = data['Diabetes_012']\n",
    "\n",
    "# Identify continuous features to apply standardization\n",
    "continuous_columns = [col for col in X.columns if data[col].dtype in ['int64', 'float64']]\n",
    "scaler = StandardScaler()\n",
    "X[continuous_columns] = scaler.fit_transform(X[continuous_columns])\n",
    "\n",
    "# Split data into training(70%), validation(15%), and test sets(15%)\n",
    "X_train, X_temp, y_train, y_temp = train_test_split(X, y, test_size=0.3, random_state=42)\n",
    "X_val, X_test, y_val, y_test = train_test_split(X_temp, y_temp, test_size=0.5, random_state=42)\n",
    "\n",
    "# Check the shapes of the resulting datasets\n",
    "print(\"Training set shape:\", X_train.shape)\n",
    "print(\"Validation set shape:\", X_val.shape)\n",
    "print(\"Test set shape:\", X_test.shape)\n"
   ]
  },
  {
   "cell_type": "code",
   "execution_count": null,
   "id": "1c321ef7",
   "metadata": {},
   "outputs": [],
   "source": []
  }
 ],
 "metadata": {
  "kernelspec": {
   "display_name": "Python 3 (ipykernel)",
   "language": "python",
   "name": "python3"
  },
  "language_info": {
   "codemirror_mode": {
    "name": "ipython",
    "version": 3
   },
   "file_extension": ".py",
   "mimetype": "text/x-python",
   "name": "python",
   "nbconvert_exporter": "python",
   "pygments_lexer": "ipython3",
   "version": "3.9.13"
  }
 },
 "nbformat": 4,
 "nbformat_minor": 5
}
